{
  "nbformat": 4,
  "nbformat_minor": 0,
  "metadata": {
    "colab": {
      "provenance": []
    },
    "kernelspec": {
      "name": "python3",
      "display_name": "Python 3"
    },
    "language_info": {
      "name": "python"
    }
  },
  "cells": [
    {
      "cell_type": "code",
      "execution_count": 3,
      "metadata": {
        "id": "ZmtK9eoU92Gd"
      },
      "outputs": [],
      "source": [
        "import zipfile\n",
        "\n",
        "# Unzip the file\n",
        "with zipfile.ZipFile(\"dataset_fnd.zip\", 'r') as zip_ref:\n",
        "    zip_ref.extractall(\"fake_news_data\")  # Extracts to a folder"
      ]
    },
    {
      "cell_type": "code",
      "source": [
        "import pandas as pd\n",
        "\n",
        "# Load the datasets\n",
        "true_news = pd.read_csv(\"/content/fake_news_data/News _dataset/True.csv\")\n",
        "fake_news = pd.read_csv(\"/content/fake_news_data/News _dataset/Fake.csv\")"
      ],
      "metadata": {
        "id": "teN4Q5jfAv0l"
      },
      "execution_count": 6,
      "outputs": []
    },
    {
      "cell_type": "code",
      "source": [
        "# Labeling: 1 = Real, 0 = Fake\n",
        "true_news['label'] = 1\n",
        "fake_news['label'] = 0\n",
        "\n",
        "# Combine & Shuffle\n",
        "df = pd.concat([true_news, fake_news]).sample(frac=1).reset_index(drop=True)\n",
        "\n",
        "# Keep only important columns\n",
        "df = df[['text', 'label']]"
      ],
      "metadata": {
        "id": "GWO0GGh0Avqr"
      },
      "execution_count": 7,
      "outputs": []
    },
    {
      "cell_type": "code",
      "source": [
        "from sklearn.feature_extraction.text import TfidfVectorizer\n",
        "from sklearn.model_selection import train_test_split\n",
        "\n",
        "X_train, X_test, y_train, y_test = train_test_split(df['text'], df['label'], test_size=0.2, random_state=42)\n",
        "\n",
        "vectorizer = TfidfVectorizer(stop_words='english', max_df=0.7)\n",
        "X_train_tfidf = vectorizer.fit_transform(X_train)\n",
        "X_test_tfidf = vectorizer.transform(X_test)"
      ],
      "metadata": {
        "id": "TwCZHpyKAvfB"
      },
      "execution_count": 8,
      "outputs": []
    },
    {
      "cell_type": "code",
      "source": [
        "from sklearn.linear_model import LogisticRegression\n",
        "from sklearn.metrics import accuracy_score\n",
        "\n",
        "model = LogisticRegression()\n",
        "model.fit(X_train_tfidf, y_train)\n",
        "\n",
        "y_pred = model.predict(X_test_tfidf)\n",
        "\n",
        "print(\"Model Accuracy:\", accuracy_score(y_test, y_pred))"
      ],
      "metadata": {
        "colab": {
          "base_uri": "https://localhost:8080/"
        },
        "id": "RFiTjQmbAvLV",
        "outputId": "00f05502-47dd-4bf8-a5f8-a6e417422d64"
      },
      "execution_count": 9,
      "outputs": [
        {
          "output_type": "stream",
          "name": "stdout",
          "text": [
            "Model Accuracy: 0.987750556792873\n"
          ]
        }
      ]
    },
    {
      "cell_type": "code",
      "source": [
        "from sklearn.metrics import classification_report\n",
        "\n",
        "print(classification_report(y_test, y_pred))"
      ],
      "metadata": {
        "colab": {
          "base_uri": "https://localhost:8080/"
        },
        "id": "8qxFP2n_BuGH",
        "outputId": "6be465a0-b57a-496d-97a9-1407e527b59f"
      },
      "execution_count": 10,
      "outputs": [
        {
          "output_type": "stream",
          "name": "stdout",
          "text": [
            "              precision    recall  f1-score   support\n",
            "\n",
            "           0       0.99      0.99      0.99      4744\n",
            "           1       0.98      0.99      0.99      4236\n",
            "\n",
            "    accuracy                           0.99      8980\n",
            "   macro avg       0.99      0.99      0.99      8980\n",
            "weighted avg       0.99      0.99      0.99      8980\n",
            "\n"
          ]
        }
      ]
    },
    {
      "cell_type": "markdown",
      "source": [
        "To check if model is overfitting, comparing training and test accuracy.\n",
        "If both are similar then model is not overfitting."
      ],
      "metadata": {
        "id": "ZRwLyyiVEx1I"
      }
    },
    {
      "cell_type": "code",
      "source": [
        "train_accuracy = model.score(X_train_tfidf, y_train)\n",
        "test_accuracy = model.score(X_test_tfidf, y_test)\n",
        "\n",
        "print(\"Training Accuracy:\", train_accuracy)\n",
        "print(\"Test Accuracy:\", test_accuracy)"
      ],
      "metadata": {
        "colab": {
          "base_uri": "https://localhost:8080/"
        },
        "id": "hHXVVqzyD0L5",
        "outputId": "9d1267b2-9c81-49bc-bc78-ba78c32369f7"
      },
      "execution_count": 12,
      "outputs": [
        {
          "output_type": "stream",
          "name": "stdout",
          "text": [
            "Training Accuracy: 0.9904226293223454\n",
            "Test Accuracy: 0.987750556792873\n"
          ]
        }
      ]
    },
    {
      "cell_type": "markdown",
      "source": [
        "Since, the difference is only ~0.26%, which is very small.\n",
        "The model generalizes well and is not just memorizing the training data."
      ],
      "metadata": {
        "id": "6xeZOAnBFw8Q"
      }
    },
    {
      "cell_type": "code",
      "source": [],
      "metadata": {
        "id": "99EIURwnEXL5"
      },
      "execution_count": null,
      "outputs": []
    }
  ]
}